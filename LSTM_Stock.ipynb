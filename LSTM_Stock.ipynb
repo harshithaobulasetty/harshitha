{
  "nbformat": 4,
  "nbformat_minor": 0,
  "metadata": {
    "colab": {
      "provenance": [],
      "authorship_tag": "ABX9TyPZJuoSswJFHbJw4bqnPIzo",
      "include_colab_link": true
    },
    "kernelspec": {
      "name": "python3",
      "display_name": "Python 3"
    },
    "language_info": {
      "name": "python"
    }
  },
  "cells": [
    {
      "cell_type": "markdown",
      "metadata": {
        "id": "view-in-github",
        "colab_type": "text"
      },
      "source": [
        "<a href=\"https://colab.research.google.com/github/DLShrankhala/DevelipingVariousLSTMModelForTimeSeriesForecasting-ai-25/blob/main/LSTM_Stock.ipynb\" target=\"_parent\"><img src=\"https://colab.research.google.com/assets/colab-badge.svg\" alt=\"Open In Colab\"/></a>"
      ]
    },
    {
      "cell_type": "code",
      "source": [
        "import pandas as pd\n",
        "import numpy as np\n",
        "import seaborn as sns"
      ],
      "metadata": {
        "id": "kWF5sqazvH-f"
      },
      "execution_count": null,
      "outputs": []
    },
    {
      "cell_type": "code",
      "source": [
        "df=pd.read_csv(\"/content/^IXIC.csv\")"
      ],
      "metadata": {
        "id": "LDPTF4gNvH8Q"
      },
      "execution_count": null,
      "outputs": []
    },
    {
      "cell_type": "code",
      "source": [
        "df.head()"
      ],
      "metadata": {
        "colab": {
          "base_uri": "https://localhost:8080/",
          "height": 206
        },
        "id": "C2XVuV-3vH5I",
        "outputId": "dccaf303-fe73-4160-9c2f-f6745d12380c"
      },
      "execution_count": null,
      "outputs": [
        {
          "output_type": "execute_result",
          "data": {
            "text/plain": [
              "         Date         Open         High          Low        Close  \\\n",
              "0  1999-06-01  2467.510010  2470.530029  2411.969971  2412.030029   \n",
              "1  1999-06-02  2411.320068  2436.570068  2364.590088  2432.409912   \n",
              "2  1999-06-03  2440.750000  2444.040039  2402.290039  2403.320068   \n",
              "3  1999-06-04  2419.459961  2478.340088  2419.459961  2478.340088   \n",
              "4  1999-06-07  2490.830078  2528.050049  2478.340088  2524.209961   \n",
              "\n",
              "     Adj Close     Volume  \n",
              "0  2412.030029  743680000  \n",
              "1  2432.409912  895580000  \n",
              "2  2403.320068  819310000  \n",
              "3  2478.340088  885690000  \n",
              "4  2524.209961  874770000  "
            ],
            "text/html": [
              "\n",
              "  <div id=\"df-10acdb5a-6fa6-4319-996d-51c680841f04\" class=\"colab-df-container\">\n",
              "    <div>\n",
              "<style scoped>\n",
              "    .dataframe tbody tr th:only-of-type {\n",
              "        vertical-align: middle;\n",
              "    }\n",
              "\n",
              "    .dataframe tbody tr th {\n",
              "        vertical-align: top;\n",
              "    }\n",
              "\n",
              "    .dataframe thead th {\n",
              "        text-align: right;\n",
              "    }\n",
              "</style>\n",
              "<table border=\"1\" class=\"dataframe\">\n",
              "  <thead>\n",
              "    <tr style=\"text-align: right;\">\n",
              "      <th></th>\n",
              "      <th>Date</th>\n",
              "      <th>Open</th>\n",
              "      <th>High</th>\n",
              "      <th>Low</th>\n",
              "      <th>Close</th>\n",
              "      <th>Adj Close</th>\n",
              "      <th>Volume</th>\n",
              "    </tr>\n",
              "  </thead>\n",
              "  <tbody>\n",
              "    <tr>\n",
              "      <th>0</th>\n",
              "      <td>1999-06-01</td>\n",
              "      <td>2467.510010</td>\n",
              "      <td>2470.530029</td>\n",
              "      <td>2411.969971</td>\n",
              "      <td>2412.030029</td>\n",
              "      <td>2412.030029</td>\n",
              "      <td>743680000</td>\n",
              "    </tr>\n",
              "    <tr>\n",
              "      <th>1</th>\n",
              "      <td>1999-06-02</td>\n",
              "      <td>2411.320068</td>\n",
              "      <td>2436.570068</td>\n",
              "      <td>2364.590088</td>\n",
              "      <td>2432.409912</td>\n",
              "      <td>2432.409912</td>\n",
              "      <td>895580000</td>\n",
              "    </tr>\n",
              "    <tr>\n",
              "      <th>2</th>\n",
              "      <td>1999-06-03</td>\n",
              "      <td>2440.750000</td>\n",
              "      <td>2444.040039</td>\n",
              "      <td>2402.290039</td>\n",
              "      <td>2403.320068</td>\n",
              "      <td>2403.320068</td>\n",
              "      <td>819310000</td>\n",
              "    </tr>\n",
              "    <tr>\n",
              "      <th>3</th>\n",
              "      <td>1999-06-04</td>\n",
              "      <td>2419.459961</td>\n",
              "      <td>2478.340088</td>\n",
              "      <td>2419.459961</td>\n",
              "      <td>2478.340088</td>\n",
              "      <td>2478.340088</td>\n",
              "      <td>885690000</td>\n",
              "    </tr>\n",
              "    <tr>\n",
              "      <th>4</th>\n",
              "      <td>1999-06-07</td>\n",
              "      <td>2490.830078</td>\n",
              "      <td>2528.050049</td>\n",
              "      <td>2478.340088</td>\n",
              "      <td>2524.209961</td>\n",
              "      <td>2524.209961</td>\n",
              "      <td>874770000</td>\n",
              "    </tr>\n",
              "  </tbody>\n",
              "</table>\n",
              "</div>\n",
              "    <div class=\"colab-df-buttons\">\n",
              "\n",
              "  <div class=\"colab-df-container\">\n",
              "    <button class=\"colab-df-convert\" onclick=\"convertToInteractive('df-10acdb5a-6fa6-4319-996d-51c680841f04')\"\n",
              "            title=\"Convert this dataframe to an interactive table.\"\n",
              "            style=\"display:none;\">\n",
              "\n",
              "  <svg xmlns=\"http://www.w3.org/2000/svg\" height=\"24px\" viewBox=\"0 -960 960 960\">\n",
              "    <path d=\"M120-120v-720h720v720H120Zm60-500h600v-160H180v160Zm220 220h160v-160H400v160Zm0 220h160v-160H400v160ZM180-400h160v-160H180v160Zm440 0h160v-160H620v160ZM180-180h160v-160H180v160Zm440 0h160v-160H620v160Z\"/>\n",
              "  </svg>\n",
              "    </button>\n",
              "\n",
              "  <style>\n",
              "    .colab-df-container {\n",
              "      display:flex;\n",
              "      gap: 12px;\n",
              "    }\n",
              "\n",
              "    .colab-df-convert {\n",
              "      background-color: #E8F0FE;\n",
              "      border: none;\n",
              "      border-radius: 50%;\n",
              "      cursor: pointer;\n",
              "      display: none;\n",
              "      fill: #1967D2;\n",
              "      height: 32px;\n",
              "      padding: 0 0 0 0;\n",
              "      width: 32px;\n",
              "    }\n",
              "\n",
              "    .colab-df-convert:hover {\n",
              "      background-color: #E2EBFA;\n",
              "      box-shadow: 0px 1px 2px rgba(60, 64, 67, 0.3), 0px 1px 3px 1px rgba(60, 64, 67, 0.15);\n",
              "      fill: #174EA6;\n",
              "    }\n",
              "\n",
              "    .colab-df-buttons div {\n",
              "      margin-bottom: 4px;\n",
              "    }\n",
              "\n",
              "    [theme=dark] .colab-df-convert {\n",
              "      background-color: #3B4455;\n",
              "      fill: #D2E3FC;\n",
              "    }\n",
              "\n",
              "    [theme=dark] .colab-df-convert:hover {\n",
              "      background-color: #434B5C;\n",
              "      box-shadow: 0px 1px 3px 1px rgba(0, 0, 0, 0.15);\n",
              "      filter: drop-shadow(0px 1px 2px rgba(0, 0, 0, 0.3));\n",
              "      fill: #FFFFFF;\n",
              "    }\n",
              "  </style>\n",
              "\n",
              "    <script>\n",
              "      const buttonEl =\n",
              "        document.querySelector('#df-10acdb5a-6fa6-4319-996d-51c680841f04 button.colab-df-convert');\n",
              "      buttonEl.style.display =\n",
              "        google.colab.kernel.accessAllowed ? 'block' : 'none';\n",
              "\n",
              "      async function convertToInteractive(key) {\n",
              "        const element = document.querySelector('#df-10acdb5a-6fa6-4319-996d-51c680841f04');\n",
              "        const dataTable =\n",
              "          await google.colab.kernel.invokeFunction('convertToInteractive',\n",
              "                                                    [key], {});\n",
              "        if (!dataTable) return;\n",
              "\n",
              "        const docLinkHtml = 'Like what you see? Visit the ' +\n",
              "          '<a target=\"_blank\" href=https://colab.research.google.com/notebooks/data_table.ipynb>data table notebook</a>'\n",
              "          + ' to learn more about interactive tables.';\n",
              "        element.innerHTML = '';\n",
              "        dataTable['output_type'] = 'display_data';\n",
              "        await google.colab.output.renderOutput(dataTable, element);\n",
              "        const docLink = document.createElement('div');\n",
              "        docLink.innerHTML = docLinkHtml;\n",
              "        element.appendChild(docLink);\n",
              "      }\n",
              "    </script>\n",
              "  </div>\n",
              "\n",
              "\n",
              "<div id=\"df-24295a52-af91-414c-8efe-337ae7095763\">\n",
              "  <button class=\"colab-df-quickchart\" onclick=\"quickchart('df-24295a52-af91-414c-8efe-337ae7095763')\"\n",
              "            title=\"Suggest charts\"\n",
              "            style=\"display:none;\">\n",
              "\n",
              "<svg xmlns=\"http://www.w3.org/2000/svg\" height=\"24px\"viewBox=\"0 0 24 24\"\n",
              "     width=\"24px\">\n",
              "    <g>\n",
              "        <path d=\"M19 3H5c-1.1 0-2 .9-2 2v14c0 1.1.9 2 2 2h14c1.1 0 2-.9 2-2V5c0-1.1-.9-2-2-2zM9 17H7v-7h2v7zm4 0h-2V7h2v10zm4 0h-2v-4h2v4z\"/>\n",
              "    </g>\n",
              "</svg>\n",
              "  </button>\n",
              "\n",
              "<style>\n",
              "  .colab-df-quickchart {\n",
              "      --bg-color: #E8F0FE;\n",
              "      --fill-color: #1967D2;\n",
              "      --hover-bg-color: #E2EBFA;\n",
              "      --hover-fill-color: #174EA6;\n",
              "      --disabled-fill-color: #AAA;\n",
              "      --disabled-bg-color: #DDD;\n",
              "  }\n",
              "\n",
              "  [theme=dark] .colab-df-quickchart {\n",
              "      --bg-color: #3B4455;\n",
              "      --fill-color: #D2E3FC;\n",
              "      --hover-bg-color: #434B5C;\n",
              "      --hover-fill-color: #FFFFFF;\n",
              "      --disabled-bg-color: #3B4455;\n",
              "      --disabled-fill-color: #666;\n",
              "  }\n",
              "\n",
              "  .colab-df-quickchart {\n",
              "    background-color: var(--bg-color);\n",
              "    border: none;\n",
              "    border-radius: 50%;\n",
              "    cursor: pointer;\n",
              "    display: none;\n",
              "    fill: var(--fill-color);\n",
              "    height: 32px;\n",
              "    padding: 0;\n",
              "    width: 32px;\n",
              "  }\n",
              "\n",
              "  .colab-df-quickchart:hover {\n",
              "    background-color: var(--hover-bg-color);\n",
              "    box-shadow: 0 1px 2px rgba(60, 64, 67, 0.3), 0 1px 3px 1px rgba(60, 64, 67, 0.15);\n",
              "    fill: var(--button-hover-fill-color);\n",
              "  }\n",
              "\n",
              "  .colab-df-quickchart-complete:disabled,\n",
              "  .colab-df-quickchart-complete:disabled:hover {\n",
              "    background-color: var(--disabled-bg-color);\n",
              "    fill: var(--disabled-fill-color);\n",
              "    box-shadow: none;\n",
              "  }\n",
              "\n",
              "  .colab-df-spinner {\n",
              "    border: 2px solid var(--fill-color);\n",
              "    border-color: transparent;\n",
              "    border-bottom-color: var(--fill-color);\n",
              "    animation:\n",
              "      spin 1s steps(1) infinite;\n",
              "  }\n",
              "\n",
              "  @keyframes spin {\n",
              "    0% {\n",
              "      border-color: transparent;\n",
              "      border-bottom-color: var(--fill-color);\n",
              "      border-left-color: var(--fill-color);\n",
              "    }\n",
              "    20% {\n",
              "      border-color: transparent;\n",
              "      border-left-color: var(--fill-color);\n",
              "      border-top-color: var(--fill-color);\n",
              "    }\n",
              "    30% {\n",
              "      border-color: transparent;\n",
              "      border-left-color: var(--fill-color);\n",
              "      border-top-color: var(--fill-color);\n",
              "      border-right-color: var(--fill-color);\n",
              "    }\n",
              "    40% {\n",
              "      border-color: transparent;\n",
              "      border-right-color: var(--fill-color);\n",
              "      border-top-color: var(--fill-color);\n",
              "    }\n",
              "    60% {\n",
              "      border-color: transparent;\n",
              "      border-right-color: var(--fill-color);\n",
              "    }\n",
              "    80% {\n",
              "      border-color: transparent;\n",
              "      border-right-color: var(--fill-color);\n",
              "      border-bottom-color: var(--fill-color);\n",
              "    }\n",
              "    90% {\n",
              "      border-color: transparent;\n",
              "      border-bottom-color: var(--fill-color);\n",
              "    }\n",
              "  }\n",
              "</style>\n",
              "\n",
              "  <script>\n",
              "    async function quickchart(key) {\n",
              "      const quickchartButtonEl =\n",
              "        document.querySelector('#' + key + ' button');\n",
              "      quickchartButtonEl.disabled = true;  // To prevent multiple clicks.\n",
              "      quickchartButtonEl.classList.add('colab-df-spinner');\n",
              "      try {\n",
              "        const charts = await google.colab.kernel.invokeFunction(\n",
              "            'suggestCharts', [key], {});\n",
              "      } catch (error) {\n",
              "        console.error('Error during call to suggestCharts:', error);\n",
              "      }\n",
              "      quickchartButtonEl.classList.remove('colab-df-spinner');\n",
              "      quickchartButtonEl.classList.add('colab-df-quickchart-complete');\n",
              "    }\n",
              "    (() => {\n",
              "      let quickchartButtonEl =\n",
              "        document.querySelector('#df-24295a52-af91-414c-8efe-337ae7095763 button');\n",
              "      quickchartButtonEl.style.display =\n",
              "        google.colab.kernel.accessAllowed ? 'block' : 'none';\n",
              "    })();\n",
              "  </script>\n",
              "</div>\n",
              "\n",
              "    </div>\n",
              "  </div>\n"
            ],
            "application/vnd.google.colaboratory.intrinsic+json": {
              "type": "dataframe",
              "variable_name": "df",
              "summary": "{\n  \"name\": \"df\",\n  \"rows\": 6290,\n  \"fields\": [\n    {\n      \"column\": \"Date\",\n      \"properties\": {\n        \"dtype\": \"object\",\n        \"num_unique_values\": 6290,\n        \"samples\": [\n          \"2013-09-19\",\n          \"2004-01-15\",\n          \"2000-08-31\"\n        ],\n        \"semantic_type\": \"\",\n        \"description\": \"\"\n      }\n    },\n    {\n      \"column\": \"Open\",\n      \"properties\": {\n        \"dtype\": \"number\",\n        \"std\": 4033.0308913748872,\n        \"min\": 1116.76001,\n        \"max\": 16996.390625,\n        \"num_unique_values\": 6243,\n        \"samples\": [\n          14571.530273,\n          2665.889893,\n          7859.430176\n        ],\n        \"semantic_type\": \"\",\n        \"description\": \"\"\n      }\n    },\n    {\n      \"column\": \"High\",\n      \"properties\": {\n        \"dtype\": \"number\",\n        \"std\": 4059.9777098245513,\n        \"min\": 1135.890015,\n        \"max\": 17032.660156,\n        \"num_unique_values\": 6239,\n        \"samples\": [\n          4111.589844,\n          2086.070068,\n          3024.439941\n        ],\n        \"semantic_type\": \"\",\n        \"description\": \"\"\n      }\n    },\n    {\n      \"column\": \"Low\",\n      \"properties\": {\n        \"dtype\": \"number\",\n        \"std\": 4003.400778484796,\n        \"min\": 1108.48999,\n        \"max\": 16917.509766,\n        \"num_unique_values\": 6254,\n        \"samples\": [\n          4956.790039,\n          2053.639893,\n          2583.320068\n        ],\n        \"semantic_type\": \"\",\n        \"description\": \"\"\n      }\n    },\n    {\n      \"column\": \"Close\",\n      \"properties\": {\n        \"dtype\": \"number\",\n        \"std\": 4033.7289792124593,\n        \"min\": 1114.109985,\n        \"max\": 17019.880859,\n        \"num_unique_values\": 6245,\n        \"samples\": [\n          2697.330078,\n          13186.179688,\n          2749.830078\n        ],\n        \"semantic_type\": \"\",\n        \"description\": \"\"\n      }\n    },\n    {\n      \"column\": \"Adj Close\",\n      \"properties\": {\n        \"dtype\": \"number\",\n        \"std\": 4033.7289792124593,\n        \"min\": 1114.109985,\n        \"max\": 17019.880859,\n        \"num_unique_values\": 6245,\n        \"samples\": [\n          2697.330078,\n          13186.179688,\n          2749.830078\n        ],\n        \"semantic_type\": \"\",\n        \"description\": \"\"\n      }\n    },\n    {\n      \"column\": \"Volume\",\n      \"properties\": {\n        \"dtype\": \"number\",\n        \"std\": 1267567736,\n        \"min\": 221430000,\n        \"max\": 11932600000,\n        \"num_unique_values\": 6188,\n        \"samples\": [\n          1588960000,\n          1448830000,\n          1921790000\n        ],\n        \"semantic_type\": \"\",\n        \"description\": \"\"\n      }\n    }\n  ]\n}"
            }
          },
          "metadata": {},
          "execution_count": 5
        }
      ]
    },
    {
      "cell_type": "code",
      "source": [
        "df.tail()"
      ],
      "metadata": {
        "colab": {
          "base_uri": "https://localhost:8080/",
          "height": 206
        },
        "id": "F3VTGpyxvH2P",
        "outputId": "5573655b-8b30-4f59-c423-8f1b2b52c1ee"
      },
      "execution_count": null,
      "outputs": [
        {
          "output_type": "execute_result",
          "data": {
            "text/plain": [
              "            Date          Open          High           Low         Close  \\\n",
              "6285  2024-05-22  16839.019531  16855.269531  16712.089844  16801.539063   \n",
              "6286  2024-05-23  16996.390625  16996.390625  16678.369141  16736.029297   \n",
              "6287  2024-05-24  16786.789063  16947.800781  16771.580078  16920.789063   \n",
              "6288  2024-05-28  16988.310547  17032.660156  16917.509766  17019.880859   \n",
              "6289  2024-05-29  16879.349609  16989.599609  16873.970703  16920.580078   \n",
              "\n",
              "         Adj Close      Volume  \n",
              "6285  16801.539063  7277340000  \n",
              "6286  16736.029297  7752800000  \n",
              "6287  16920.789063  5836040000  \n",
              "6288  17019.880859  6293380000  \n",
              "6289  16920.580078  6652480000  "
            ],
            "text/html": [
              "\n",
              "  <div id=\"df-29d47c3a-ccb7-4b44-945a-15396cd87a3f\" class=\"colab-df-container\">\n",
              "    <div>\n",
              "<style scoped>\n",
              "    .dataframe tbody tr th:only-of-type {\n",
              "        vertical-align: middle;\n",
              "    }\n",
              "\n",
              "    .dataframe tbody tr th {\n",
              "        vertical-align: top;\n",
              "    }\n",
              "\n",
              "    .dataframe thead th {\n",
              "        text-align: right;\n",
              "    }\n",
              "</style>\n",
              "<table border=\"1\" class=\"dataframe\">\n",
              "  <thead>\n",
              "    <tr style=\"text-align: right;\">\n",
              "      <th></th>\n",
              "      <th>Date</th>\n",
              "      <th>Open</th>\n",
              "      <th>High</th>\n",
              "      <th>Low</th>\n",
              "      <th>Close</th>\n",
              "      <th>Adj Close</th>\n",
              "      <th>Volume</th>\n",
              "    </tr>\n",
              "  </thead>\n",
              "  <tbody>\n",
              "    <tr>\n",
              "      <th>6285</th>\n",
              "      <td>2024-05-22</td>\n",
              "      <td>16839.019531</td>\n",
              "      <td>16855.269531</td>\n",
              "      <td>16712.089844</td>\n",
              "      <td>16801.539063</td>\n",
              "      <td>16801.539063</td>\n",
              "      <td>7277340000</td>\n",
              "    </tr>\n",
              "    <tr>\n",
              "      <th>6286</th>\n",
              "      <td>2024-05-23</td>\n",
              "      <td>16996.390625</td>\n",
              "      <td>16996.390625</td>\n",
              "      <td>16678.369141</td>\n",
              "      <td>16736.029297</td>\n",
              "      <td>16736.029297</td>\n",
              "      <td>7752800000</td>\n",
              "    </tr>\n",
              "    <tr>\n",
              "      <th>6287</th>\n",
              "      <td>2024-05-24</td>\n",
              "      <td>16786.789063</td>\n",
              "      <td>16947.800781</td>\n",
              "      <td>16771.580078</td>\n",
              "      <td>16920.789063</td>\n",
              "      <td>16920.789063</td>\n",
              "      <td>5836040000</td>\n",
              "    </tr>\n",
              "    <tr>\n",
              "      <th>6288</th>\n",
              "      <td>2024-05-28</td>\n",
              "      <td>16988.310547</td>\n",
              "      <td>17032.660156</td>\n",
              "      <td>16917.509766</td>\n",
              "      <td>17019.880859</td>\n",
              "      <td>17019.880859</td>\n",
              "      <td>6293380000</td>\n",
              "    </tr>\n",
              "    <tr>\n",
              "      <th>6289</th>\n",
              "      <td>2024-05-29</td>\n",
              "      <td>16879.349609</td>\n",
              "      <td>16989.599609</td>\n",
              "      <td>16873.970703</td>\n",
              "      <td>16920.580078</td>\n",
              "      <td>16920.580078</td>\n",
              "      <td>6652480000</td>\n",
              "    </tr>\n",
              "  </tbody>\n",
              "</table>\n",
              "</div>\n",
              "    <div class=\"colab-df-buttons\">\n",
              "\n",
              "  <div class=\"colab-df-container\">\n",
              "    <button class=\"colab-df-convert\" onclick=\"convertToInteractive('df-29d47c3a-ccb7-4b44-945a-15396cd87a3f')\"\n",
              "            title=\"Convert this dataframe to an interactive table.\"\n",
              "            style=\"display:none;\">\n",
              "\n",
              "  <svg xmlns=\"http://www.w3.org/2000/svg\" height=\"24px\" viewBox=\"0 -960 960 960\">\n",
              "    <path d=\"M120-120v-720h720v720H120Zm60-500h600v-160H180v160Zm220 220h160v-160H400v160Zm0 220h160v-160H400v160ZM180-400h160v-160H180v160Zm440 0h160v-160H620v160ZM180-180h160v-160H180v160Zm440 0h160v-160H620v160Z\"/>\n",
              "  </svg>\n",
              "    </button>\n",
              "\n",
              "  <style>\n",
              "    .colab-df-container {\n",
              "      display:flex;\n",
              "      gap: 12px;\n",
              "    }\n",
              "\n",
              "    .colab-df-convert {\n",
              "      background-color: #E8F0FE;\n",
              "      border: none;\n",
              "      border-radius: 50%;\n",
              "      cursor: pointer;\n",
              "      display: none;\n",
              "      fill: #1967D2;\n",
              "      height: 32px;\n",
              "      padding: 0 0 0 0;\n",
              "      width: 32px;\n",
              "    }\n",
              "\n",
              "    .colab-df-convert:hover {\n",
              "      background-color: #E2EBFA;\n",
              "      box-shadow: 0px 1px 2px rgba(60, 64, 67, 0.3), 0px 1px 3px 1px rgba(60, 64, 67, 0.15);\n",
              "      fill: #174EA6;\n",
              "    }\n",
              "\n",
              "    .colab-df-buttons div {\n",
              "      margin-bottom: 4px;\n",
              "    }\n",
              "\n",
              "    [theme=dark] .colab-df-convert {\n",
              "      background-color: #3B4455;\n",
              "      fill: #D2E3FC;\n",
              "    }\n",
              "\n",
              "    [theme=dark] .colab-df-convert:hover {\n",
              "      background-color: #434B5C;\n",
              "      box-shadow: 0px 1px 3px 1px rgba(0, 0, 0, 0.15);\n",
              "      filter: drop-shadow(0px 1px 2px rgba(0, 0, 0, 0.3));\n",
              "      fill: #FFFFFF;\n",
              "    }\n",
              "  </style>\n",
              "\n",
              "    <script>\n",
              "      const buttonEl =\n",
              "        document.querySelector('#df-29d47c3a-ccb7-4b44-945a-15396cd87a3f button.colab-df-convert');\n",
              "      buttonEl.style.display =\n",
              "        google.colab.kernel.accessAllowed ? 'block' : 'none';\n",
              "\n",
              "      async function convertToInteractive(key) {\n",
              "        const element = document.querySelector('#df-29d47c3a-ccb7-4b44-945a-15396cd87a3f');\n",
              "        const dataTable =\n",
              "          await google.colab.kernel.invokeFunction('convertToInteractive',\n",
              "                                                    [key], {});\n",
              "        if (!dataTable) return;\n",
              "\n",
              "        const docLinkHtml = 'Like what you see? Visit the ' +\n",
              "          '<a target=\"_blank\" href=https://colab.research.google.com/notebooks/data_table.ipynb>data table notebook</a>'\n",
              "          + ' to learn more about interactive tables.';\n",
              "        element.innerHTML = '';\n",
              "        dataTable['output_type'] = 'display_data';\n",
              "        await google.colab.output.renderOutput(dataTable, element);\n",
              "        const docLink = document.createElement('div');\n",
              "        docLink.innerHTML = docLinkHtml;\n",
              "        element.appendChild(docLink);\n",
              "      }\n",
              "    </script>\n",
              "  </div>\n",
              "\n",
              "\n",
              "<div id=\"df-ac100d58-346b-4589-b94f-d6330dda121c\">\n",
              "  <button class=\"colab-df-quickchart\" onclick=\"quickchart('df-ac100d58-346b-4589-b94f-d6330dda121c')\"\n",
              "            title=\"Suggest charts\"\n",
              "            style=\"display:none;\">\n",
              "\n",
              "<svg xmlns=\"http://www.w3.org/2000/svg\" height=\"24px\"viewBox=\"0 0 24 24\"\n",
              "     width=\"24px\">\n",
              "    <g>\n",
              "        <path d=\"M19 3H5c-1.1 0-2 .9-2 2v14c0 1.1.9 2 2 2h14c1.1 0 2-.9 2-2V5c0-1.1-.9-2-2-2zM9 17H7v-7h2v7zm4 0h-2V7h2v10zm4 0h-2v-4h2v4z\"/>\n",
              "    </g>\n",
              "</svg>\n",
              "  </button>\n",
              "\n",
              "<style>\n",
              "  .colab-df-quickchart {\n",
              "      --bg-color: #E8F0FE;\n",
              "      --fill-color: #1967D2;\n",
              "      --hover-bg-color: #E2EBFA;\n",
              "      --hover-fill-color: #174EA6;\n",
              "      --disabled-fill-color: #AAA;\n",
              "      --disabled-bg-color: #DDD;\n",
              "  }\n",
              "\n",
              "  [theme=dark] .colab-df-quickchart {\n",
              "      --bg-color: #3B4455;\n",
              "      --fill-color: #D2E3FC;\n",
              "      --hover-bg-color: #434B5C;\n",
              "      --hover-fill-color: #FFFFFF;\n",
              "      --disabled-bg-color: #3B4455;\n",
              "      --disabled-fill-color: #666;\n",
              "  }\n",
              "\n",
              "  .colab-df-quickchart {\n",
              "    background-color: var(--bg-color);\n",
              "    border: none;\n",
              "    border-radius: 50%;\n",
              "    cursor: pointer;\n",
              "    display: none;\n",
              "    fill: var(--fill-color);\n",
              "    height: 32px;\n",
              "    padding: 0;\n",
              "    width: 32px;\n",
              "  }\n",
              "\n",
              "  .colab-df-quickchart:hover {\n",
              "    background-color: var(--hover-bg-color);\n",
              "    box-shadow: 0 1px 2px rgba(60, 64, 67, 0.3), 0 1px 3px 1px rgba(60, 64, 67, 0.15);\n",
              "    fill: var(--button-hover-fill-color);\n",
              "  }\n",
              "\n",
              "  .colab-df-quickchart-complete:disabled,\n",
              "  .colab-df-quickchart-complete:disabled:hover {\n",
              "    background-color: var(--disabled-bg-color);\n",
              "    fill: var(--disabled-fill-color);\n",
              "    box-shadow: none;\n",
              "  }\n",
              "\n",
              "  .colab-df-spinner {\n",
              "    border: 2px solid var(--fill-color);\n",
              "    border-color: transparent;\n",
              "    border-bottom-color: var(--fill-color);\n",
              "    animation:\n",
              "      spin 1s steps(1) infinite;\n",
              "  }\n",
              "\n",
              "  @keyframes spin {\n",
              "    0% {\n",
              "      border-color: transparent;\n",
              "      border-bottom-color: var(--fill-color);\n",
              "      border-left-color: var(--fill-color);\n",
              "    }\n",
              "    20% {\n",
              "      border-color: transparent;\n",
              "      border-left-color: var(--fill-color);\n",
              "      border-top-color: var(--fill-color);\n",
              "    }\n",
              "    30% {\n",
              "      border-color: transparent;\n",
              "      border-left-color: var(--fill-color);\n",
              "      border-top-color: var(--fill-color);\n",
              "      border-right-color: var(--fill-color);\n",
              "    }\n",
              "    40% {\n",
              "      border-color: transparent;\n",
              "      border-right-color: var(--fill-color);\n",
              "      border-top-color: var(--fill-color);\n",
              "    }\n",
              "    60% {\n",
              "      border-color: transparent;\n",
              "      border-right-color: var(--fill-color);\n",
              "    }\n",
              "    80% {\n",
              "      border-color: transparent;\n",
              "      border-right-color: var(--fill-color);\n",
              "      border-bottom-color: var(--fill-color);\n",
              "    }\n",
              "    90% {\n",
              "      border-color: transparent;\n",
              "      border-bottom-color: var(--fill-color);\n",
              "    }\n",
              "  }\n",
              "</style>\n",
              "\n",
              "  <script>\n",
              "    async function quickchart(key) {\n",
              "      const quickchartButtonEl =\n",
              "        document.querySelector('#' + key + ' button');\n",
              "      quickchartButtonEl.disabled = true;  // To prevent multiple clicks.\n",
              "      quickchartButtonEl.classList.add('colab-df-spinner');\n",
              "      try {\n",
              "        const charts = await google.colab.kernel.invokeFunction(\n",
              "            'suggestCharts', [key], {});\n",
              "      } catch (error) {\n",
              "        console.error('Error during call to suggestCharts:', error);\n",
              "      }\n",
              "      quickchartButtonEl.classList.remove('colab-df-spinner');\n",
              "      quickchartButtonEl.classList.add('colab-df-quickchart-complete');\n",
              "    }\n",
              "    (() => {\n",
              "      let quickchartButtonEl =\n",
              "        document.querySelector('#df-ac100d58-346b-4589-b94f-d6330dda121c button');\n",
              "      quickchartButtonEl.style.display =\n",
              "        google.colab.kernel.accessAllowed ? 'block' : 'none';\n",
              "    })();\n",
              "  </script>\n",
              "</div>\n",
              "\n",
              "    </div>\n",
              "  </div>\n"
            ],
            "application/vnd.google.colaboratory.intrinsic+json": {
              "type": "dataframe",
              "repr_error": "0"
            }
          },
          "metadata": {},
          "execution_count": 6
        }
      ]
    },
    {
      "cell_type": "code",
      "source": [
        "df['Date'] = pd.to_datetime(df['Date'])\n",
        "df.corr()"
      ],
      "metadata": {
        "colab": {
          "base_uri": "https://localhost:8080/",
          "height": 269
        },
        "id": "8Zt3sESVXWM_",
        "outputId": "f494b64b-efaa-40e4-fa9a-5c4d1692fe08"
      },
      "execution_count": null,
      "outputs": [
        {
          "output_type": "execute_result",
          "data": {
            "text/plain": [
              "               Date      Open      High       Low     Close  Adj Close  \\\n",
              "Date       1.000000  0.834737  0.834206  0.835798  0.835042   0.835042   \n",
              "Open       0.834737  1.000000  0.999940  0.999911  0.999835   0.999835   \n",
              "High       0.834206  0.999940  1.000000  0.999885  0.999911   0.999911   \n",
              "Low        0.835798  0.999911  0.999885  1.000000  0.999923   0.999923   \n",
              "Close      0.835042  0.999835  0.999911  0.999923  1.000000   1.000000   \n",
              "Adj Close  0.835042  0.999835  0.999911  0.999923  1.000000   1.000000   \n",
              "Volume     0.652222  0.818925  0.820343  0.817089  0.818664   0.818664   \n",
              "\n",
              "             Volume  \n",
              "Date       0.652222  \n",
              "Open       0.818925  \n",
              "High       0.820343  \n",
              "Low        0.817089  \n",
              "Close      0.818664  \n",
              "Adj Close  0.818664  \n",
              "Volume     1.000000  "
            ],
            "text/html": [
              "\n",
              "  <div id=\"df-cc7ac276-0f17-4007-bffa-8000e5d13dba\" class=\"colab-df-container\">\n",
              "    <div>\n",
              "<style scoped>\n",
              "    .dataframe tbody tr th:only-of-type {\n",
              "        vertical-align: middle;\n",
              "    }\n",
              "\n",
              "    .dataframe tbody tr th {\n",
              "        vertical-align: top;\n",
              "    }\n",
              "\n",
              "    .dataframe thead th {\n",
              "        text-align: right;\n",
              "    }\n",
              "</style>\n",
              "<table border=\"1\" class=\"dataframe\">\n",
              "  <thead>\n",
              "    <tr style=\"text-align: right;\">\n",
              "      <th></th>\n",
              "      <th>Date</th>\n",
              "      <th>Open</th>\n",
              "      <th>High</th>\n",
              "      <th>Low</th>\n",
              "      <th>Close</th>\n",
              "      <th>Adj Close</th>\n",
              "      <th>Volume</th>\n",
              "    </tr>\n",
              "  </thead>\n",
              "  <tbody>\n",
              "    <tr>\n",
              "      <th>Date</th>\n",
              "      <td>1.000000</td>\n",
              "      <td>0.834737</td>\n",
              "      <td>0.834206</td>\n",
              "      <td>0.835798</td>\n",
              "      <td>0.835042</td>\n",
              "      <td>0.835042</td>\n",
              "      <td>0.652222</td>\n",
              "    </tr>\n",
              "    <tr>\n",
              "      <th>Open</th>\n",
              "      <td>0.834737</td>\n",
              "      <td>1.000000</td>\n",
              "      <td>0.999940</td>\n",
              "      <td>0.999911</td>\n",
              "      <td>0.999835</td>\n",
              "      <td>0.999835</td>\n",
              "      <td>0.818925</td>\n",
              "    </tr>\n",
              "    <tr>\n",
              "      <th>High</th>\n",
              "      <td>0.834206</td>\n",
              "      <td>0.999940</td>\n",
              "      <td>1.000000</td>\n",
              "      <td>0.999885</td>\n",
              "      <td>0.999911</td>\n",
              "      <td>0.999911</td>\n",
              "      <td>0.820343</td>\n",
              "    </tr>\n",
              "    <tr>\n",
              "      <th>Low</th>\n",
              "      <td>0.835798</td>\n",
              "      <td>0.999911</td>\n",
              "      <td>0.999885</td>\n",
              "      <td>1.000000</td>\n",
              "      <td>0.999923</td>\n",
              "      <td>0.999923</td>\n",
              "      <td>0.817089</td>\n",
              "    </tr>\n",
              "    <tr>\n",
              "      <th>Close</th>\n",
              "      <td>0.835042</td>\n",
              "      <td>0.999835</td>\n",
              "      <td>0.999911</td>\n",
              "      <td>0.999923</td>\n",
              "      <td>1.000000</td>\n",
              "      <td>1.000000</td>\n",
              "      <td>0.818664</td>\n",
              "    </tr>\n",
              "    <tr>\n",
              "      <th>Adj Close</th>\n",
              "      <td>0.835042</td>\n",
              "      <td>0.999835</td>\n",
              "      <td>0.999911</td>\n",
              "      <td>0.999923</td>\n",
              "      <td>1.000000</td>\n",
              "      <td>1.000000</td>\n",
              "      <td>0.818664</td>\n",
              "    </tr>\n",
              "    <tr>\n",
              "      <th>Volume</th>\n",
              "      <td>0.652222</td>\n",
              "      <td>0.818925</td>\n",
              "      <td>0.820343</td>\n",
              "      <td>0.817089</td>\n",
              "      <td>0.818664</td>\n",
              "      <td>0.818664</td>\n",
              "      <td>1.000000</td>\n",
              "    </tr>\n",
              "  </tbody>\n",
              "</table>\n",
              "</div>\n",
              "    <div class=\"colab-df-buttons\">\n",
              "\n",
              "  <div class=\"colab-df-container\">\n",
              "    <button class=\"colab-df-convert\" onclick=\"convertToInteractive('df-cc7ac276-0f17-4007-bffa-8000e5d13dba')\"\n",
              "            title=\"Convert this dataframe to an interactive table.\"\n",
              "            style=\"display:none;\">\n",
              "\n",
              "  <svg xmlns=\"http://www.w3.org/2000/svg\" height=\"24px\" viewBox=\"0 -960 960 960\">\n",
              "    <path d=\"M120-120v-720h720v720H120Zm60-500h600v-160H180v160Zm220 220h160v-160H400v160Zm0 220h160v-160H400v160ZM180-400h160v-160H180v160Zm440 0h160v-160H620v160ZM180-180h160v-160H180v160Zm440 0h160v-160H620v160Z\"/>\n",
              "  </svg>\n",
              "    </button>\n",
              "\n",
              "  <style>\n",
              "    .colab-df-container {\n",
              "      display:flex;\n",
              "      gap: 12px;\n",
              "    }\n",
              "\n",
              "    .colab-df-convert {\n",
              "      background-color: #E8F0FE;\n",
              "      border: none;\n",
              "      border-radius: 50%;\n",
              "      cursor: pointer;\n",
              "      display: none;\n",
              "      fill: #1967D2;\n",
              "      height: 32px;\n",
              "      padding: 0 0 0 0;\n",
              "      width: 32px;\n",
              "    }\n",
              "\n",
              "    .colab-df-convert:hover {\n",
              "      background-color: #E2EBFA;\n",
              "      box-shadow: 0px 1px 2px rgba(60, 64, 67, 0.3), 0px 1px 3px 1px rgba(60, 64, 67, 0.15);\n",
              "      fill: #174EA6;\n",
              "    }\n",
              "\n",
              "    .colab-df-buttons div {\n",
              "      margin-bottom: 4px;\n",
              "    }\n",
              "\n",
              "    [theme=dark] .colab-df-convert {\n",
              "      background-color: #3B4455;\n",
              "      fill: #D2E3FC;\n",
              "    }\n",
              "\n",
              "    [theme=dark] .colab-df-convert:hover {\n",
              "      background-color: #434B5C;\n",
              "      box-shadow: 0px 1px 3px 1px rgba(0, 0, 0, 0.15);\n",
              "      filter: drop-shadow(0px 1px 2px rgba(0, 0, 0, 0.3));\n",
              "      fill: #FFFFFF;\n",
              "    }\n",
              "  </style>\n",
              "\n",
              "    <script>\n",
              "      const buttonEl =\n",
              "        document.querySelector('#df-cc7ac276-0f17-4007-bffa-8000e5d13dba button.colab-df-convert');\n",
              "      buttonEl.style.display =\n",
              "        google.colab.kernel.accessAllowed ? 'block' : 'none';\n",
              "\n",
              "      async function convertToInteractive(key) {\n",
              "        const element = document.querySelector('#df-cc7ac276-0f17-4007-bffa-8000e5d13dba');\n",
              "        const dataTable =\n",
              "          await google.colab.kernel.invokeFunction('convertToInteractive',\n",
              "                                                    [key], {});\n",
              "        if (!dataTable) return;\n",
              "\n",
              "        const docLinkHtml = 'Like what you see? Visit the ' +\n",
              "          '<a target=\"_blank\" href=https://colab.research.google.com/notebooks/data_table.ipynb>data table notebook</a>'\n",
              "          + ' to learn more about interactive tables.';\n",
              "        element.innerHTML = '';\n",
              "        dataTable['output_type'] = 'display_data';\n",
              "        await google.colab.output.renderOutput(dataTable, element);\n",
              "        const docLink = document.createElement('div');\n",
              "        docLink.innerHTML = docLinkHtml;\n",
              "        element.appendChild(docLink);\n",
              "      }\n",
              "    </script>\n",
              "  </div>\n",
              "\n",
              "\n",
              "<div id=\"df-ff606a9b-e3bf-42b2-b390-d336f8765279\">\n",
              "  <button class=\"colab-df-quickchart\" onclick=\"quickchart('df-ff606a9b-e3bf-42b2-b390-d336f8765279')\"\n",
              "            title=\"Suggest charts\"\n",
              "            style=\"display:none;\">\n",
              "\n",
              "<svg xmlns=\"http://www.w3.org/2000/svg\" height=\"24px\"viewBox=\"0 0 24 24\"\n",
              "     width=\"24px\">\n",
              "    <g>\n",
              "        <path d=\"M19 3H5c-1.1 0-2 .9-2 2v14c0 1.1.9 2 2 2h14c1.1 0 2-.9 2-2V5c0-1.1-.9-2-2-2zM9 17H7v-7h2v7zm4 0h-2V7h2v10zm4 0h-2v-4h2v4z\"/>\n",
              "    </g>\n",
              "</svg>\n",
              "  </button>\n",
              "\n",
              "<style>\n",
              "  .colab-df-quickchart {\n",
              "      --bg-color: #E8F0FE;\n",
              "      --fill-color: #1967D2;\n",
              "      --hover-bg-color: #E2EBFA;\n",
              "      --hover-fill-color: #174EA6;\n",
              "      --disabled-fill-color: #AAA;\n",
              "      --disabled-bg-color: #DDD;\n",
              "  }\n",
              "\n",
              "  [theme=dark] .colab-df-quickchart {\n",
              "      --bg-color: #3B4455;\n",
              "      --fill-color: #D2E3FC;\n",
              "      --hover-bg-color: #434B5C;\n",
              "      --hover-fill-color: #FFFFFF;\n",
              "      --disabled-bg-color: #3B4455;\n",
              "      --disabled-fill-color: #666;\n",
              "  }\n",
              "\n",
              "  .colab-df-quickchart {\n",
              "    background-color: var(--bg-color);\n",
              "    border: none;\n",
              "    border-radius: 50%;\n",
              "    cursor: pointer;\n",
              "    display: none;\n",
              "    fill: var(--fill-color);\n",
              "    height: 32px;\n",
              "    padding: 0;\n",
              "    width: 32px;\n",
              "  }\n",
              "\n",
              "  .colab-df-quickchart:hover {\n",
              "    background-color: var(--hover-bg-color);\n",
              "    box-shadow: 0 1px 2px rgba(60, 64, 67, 0.3), 0 1px 3px 1px rgba(60, 64, 67, 0.15);\n",
              "    fill: var(--button-hover-fill-color);\n",
              "  }\n",
              "\n",
              "  .colab-df-quickchart-complete:disabled,\n",
              "  .colab-df-quickchart-complete:disabled:hover {\n",
              "    background-color: var(--disabled-bg-color);\n",
              "    fill: var(--disabled-fill-color);\n",
              "    box-shadow: none;\n",
              "  }\n",
              "\n",
              "  .colab-df-spinner {\n",
              "    border: 2px solid var(--fill-color);\n",
              "    border-color: transparent;\n",
              "    border-bottom-color: var(--fill-color);\n",
              "    animation:\n",
              "      spin 1s steps(1) infinite;\n",
              "  }\n",
              "\n",
              "  @keyframes spin {\n",
              "    0% {\n",
              "      border-color: transparent;\n",
              "      border-bottom-color: var(--fill-color);\n",
              "      border-left-color: var(--fill-color);\n",
              "    }\n",
              "    20% {\n",
              "      border-color: transparent;\n",
              "      border-left-color: var(--fill-color);\n",
              "      border-top-color: var(--fill-color);\n",
              "    }\n",
              "    30% {\n",
              "      border-color: transparent;\n",
              "      border-left-color: var(--fill-color);\n",
              "      border-top-color: var(--fill-color);\n",
              "      border-right-color: var(--fill-color);\n",
              "    }\n",
              "    40% {\n",
              "      border-color: transparent;\n",
              "      border-right-color: var(--fill-color);\n",
              "      border-top-color: var(--fill-color);\n",
              "    }\n",
              "    60% {\n",
              "      border-color: transparent;\n",
              "      border-right-color: var(--fill-color);\n",
              "    }\n",
              "    80% {\n",
              "      border-color: transparent;\n",
              "      border-right-color: var(--fill-color);\n",
              "      border-bottom-color: var(--fill-color);\n",
              "    }\n",
              "    90% {\n",
              "      border-color: transparent;\n",
              "      border-bottom-color: var(--fill-color);\n",
              "    }\n",
              "  }\n",
              "</style>\n",
              "\n",
              "  <script>\n",
              "    async function quickchart(key) {\n",
              "      const quickchartButtonEl =\n",
              "        document.querySelector('#' + key + ' button');\n",
              "      quickchartButtonEl.disabled = true;  // To prevent multiple clicks.\n",
              "      quickchartButtonEl.classList.add('colab-df-spinner');\n",
              "      try {\n",
              "        const charts = await google.colab.kernel.invokeFunction(\n",
              "            'suggestCharts', [key], {});\n",
              "      } catch (error) {\n",
              "        console.error('Error during call to suggestCharts:', error);\n",
              "      }\n",
              "      quickchartButtonEl.classList.remove('colab-df-spinner');\n",
              "      quickchartButtonEl.classList.add('colab-df-quickchart-complete');\n",
              "    }\n",
              "    (() => {\n",
              "      let quickchartButtonEl =\n",
              "        document.querySelector('#df-ff606a9b-e3bf-42b2-b390-d336f8765279 button');\n",
              "      quickchartButtonEl.style.display =\n",
              "        google.colab.kernel.accessAllowed ? 'block' : 'none';\n",
              "    })();\n",
              "  </script>\n",
              "</div>\n",
              "\n",
              "    </div>\n",
              "  </div>\n"
            ],
            "application/vnd.google.colaboratory.intrinsic+json": {
              "type": "dataframe",
              "summary": "{\n  \"name\": \"df\",\n  \"rows\": 7,\n  \"fields\": [\n    {\n      \"column\": \"Date\",\n      \"properties\": {\n        \"dtype\": \"number\",\n        \"std\": 0.10048879691153849,\n        \"min\": 0.6522222709110859,\n        \"max\": 1.0,\n        \"num_unique_values\": 6,\n        \"samples\": [\n          1.0,\n          0.8347371890231766,\n          0.6522222709110859\n        ],\n        \"semantic_type\": \"\",\n        \"description\": \"\"\n      }\n    },\n    {\n      \"column\": \"Open\",\n      \"properties\": {\n        \"dtype\": \"number\",\n        \"std\": 0.08457424733312022,\n        \"min\": 0.8189251206672725,\n        \"max\": 1.0,\n        \"num_unique_values\": 6,\n        \"samples\": [\n          0.8347371890231766,\n          1.0,\n          0.8189251206672725\n        ],\n        \"semantic_type\": \"\",\n        \"description\": \"\"\n      }\n    },\n    {\n      \"column\": \"High\",\n      \"properties\": {\n        \"dtype\": \"number\",\n        \"std\": 0.08434185339464834,\n        \"min\": 0.8203434065594,\n        \"max\": 1.0,\n        \"num_unique_values\": 6,\n        \"samples\": [\n          0.8342055134920519,\n          0.999939978611003,\n          0.8203434065594\n        ],\n        \"semantic_type\": \"\",\n        \"description\": \"\"\n      }\n    },\n    {\n      \"column\": \"Low\",\n      \"properties\": {\n        \"dtype\": \"number\",\n        \"std\": 0.08482421893206048,\n        \"min\": 0.8170885873949312,\n        \"max\": 1.0,\n        \"num_unique_values\": 6,\n        \"samples\": [\n          0.8357975829565045,\n          0.9999112700360638,\n          0.8170885873949312\n        ],\n        \"semantic_type\": \"\",\n        \"description\": \"\"\n      }\n    },\n    {\n      \"column\": \"Close\",\n      \"properties\": {\n        \"dtype\": \"number\",\n        \"std\": 0.0845868974196867,\n        \"min\": 0.81866426541829,\n        \"max\": 1.0,\n        \"num_unique_values\": 6,\n        \"samples\": [\n          0.8350418296304117,\n          0.9998346828606525,\n          0.81866426541829\n        ],\n        \"semantic_type\": \"\",\n        \"description\": \"\"\n      }\n    },\n    {\n      \"column\": \"Adj Close\",\n      \"properties\": {\n        \"dtype\": \"number\",\n        \"std\": 0.0845868974196867,\n        \"min\": 0.81866426541829,\n        \"max\": 1.0,\n        \"num_unique_values\": 6,\n        \"samples\": [\n          0.8350418296304117,\n          0.9998346828606525,\n          0.81866426541829\n        ],\n        \"semantic_type\": \"\",\n        \"description\": \"\"\n      }\n    },\n    {\n      \"column\": \"Volume\",\n      \"properties\": {\n        \"dtype\": \"number\",\n        \"std\": 0.10046367349955257,\n        \"min\": 0.6522222709110859,\n        \"max\": 1.0,\n        \"num_unique_values\": 6,\n        \"samples\": [\n          0.6522222709110859,\n          0.8189251206672725,\n          1.0\n        ],\n        \"semantic_type\": \"\",\n        \"description\": \"\"\n      }\n    }\n  ]\n}"
            }
          },
          "metadata": {},
          "execution_count": 7
        }
      ]
    },
    {
      "cell_type": "code",
      "source": [
        "df1=df.reset_index()['Close']"
      ],
      "metadata": {
        "id": "dY-uP7QcvHzn"
      },
      "execution_count": null,
      "outputs": []
    },
    {
      "cell_type": "code",
      "source": [
        "import matplotlib.pyplot as plt\n",
        "plt.plot(df1)\n"
      ],
      "metadata": {
        "colab": {
          "base_uri": "https://localhost:8080/",
          "height": 447
        },
        "id": "xW7nsZ-qvHww",
        "outputId": "7a6aa4e9-0658-45ca-8c19-bc1a4bf3deaf"
      },
      "execution_count": null,
      "outputs": [
        {
          "output_type": "execute_result",
          "data": {
            "text/plain": [
              "[<matplotlib.lines.Line2D at 0x799f3eb8c670>]"
            ]
          },
          "metadata": {},
          "execution_count": 9
        },
        {
          "output_type": "display_data",
          "data": {
            "text/plain": [
              "<Figure size 640x480 with 1 Axes>"
            ],
            "image/png": "[encoded data removed]"
          },
          "metadata": {}
        }
      ]
    },
    {
      "cell_type": "code",
      "source": [
        "df2=df.reset_index()['Volume']"
      ],
      "metadata": {
        "id": "ZzKyUnqavHto"
      },
      "execution_count": null,
      "outputs": []
    },
    {
      "cell_type": "code",
      "source": [
        "plt.plot(df2)"
      ],
      "metadata": {
        "colab": {
          "base_uri": "https://localhost:8080/",
          "height": 462
        },
        "id": "LNke-NdvvHp_",
        "outputId": "2f35fdba-45e8-4a28-c4a7-ffdbe2f55856"
      },
      "execution_count": null,
      "outputs": [
        {
          "output_type": "execute_result",
          "data": {
            "text/plain": [
              "[<matplotlib.lines.Line2D at 0x799f3ca82200>]"
            ]
          },
          "metadata": {},
          "execution_count": 11
        },
        {
          "output_type": "display_data",
          "data": {
            "text/plain": [
              "<Figure size 640x480 with 1 Axes>"
            ],
            "image/png": "[encoded data removed]"
          },
          "metadata": {}
        }
      ]
    },
    {
      "cell_type": "code",
      "source": [
        "df5=df.reset_index()['High']\n",
        "df3=df.reset_index()['Close']\n",
        "df4=df.reset_index()['Low']"
      ],
      "metadata": {
        "id": "b33O8sxdQmDM"
      },
      "execution_count": null,
      "outputs": []
    },
    {
      "cell_type": "code",
      "source": [
        "fig, ax = plt.subplots(2)\n",
        "ax[0].plot(df5,df1)\n",
        "ax[1].plot(df3,df1)"
      ],
      "metadata": {
        "colab": {
          "base_uri": "https://localhost:8080/",
          "height": 447
        },
        "id": "AuB2KQP3Qsfv",
        "outputId": "639b51a0-c7b9-43db-f259-c20c17cac898"
      },
      "execution_count": null,
      "outputs": [
        {
          "output_type": "execute_result",
          "data": {
            "text/plain": [
              "[<matplotlib.lines.Line2D at 0x799f3cb55810>]"
            ]
          },
          "metadata": {},
          "execution_count": 13
        },
        {
          "output_type": "display_data",
          "data": {
            "text/plain": [
              "<Figure size 640x480 with 2 Axes>"
            ],
            "image/png": "[encoded data removed]"
          },
          "metadata": {}
        }
      ]
    },
    {
      "cell_type": "code",
      "source": [
        "pip install mplfinance"
      ],
      "metadata": {
        "colab": {
          "base_uri": "https://localhost:8080/"
        },
        "id": "fU-coxeusGo0",
        "outputId": "2b4e0d8b-23c3-48bc-e6c2-468a4f33068e"
      },
      "execution_count": null,
      "outputs": [
        {
          "output_type": "stream",
          "name": "stdout",
          "text": [
            "Collecting mplfinance\n",
            "  Downloading mplfinance-0.12.10b0-py3-none-any.whl (75 kB)\n",
            "\u001b[?25l     \u001b[90m━━━━━━━━━━━━━━━━━━━━━━━━━━━━━━━━━━━━━━━━\u001b[0m \u001b[32m0.0/75.0 kB\u001b[0m \u001b[31m?\u001b[0m eta \u001b[36m-:--:--\u001b[0m\r\u001b[2K     \u001b[90m━━━━━━━━━━━━━━━━━━━━━━━━━━━━━━━━━━━━━━━━\u001b[0m \u001b[32m75.0/75.0 kB\u001b[0m \u001b[31m2.7 MB/s\u001b[0m eta \u001b[36m0:00:00\u001b[0m\n",
            "\u001b[?25hRequirement already satisfied: matplotlib in /usr/local/lib/python3.10/dist-packages (from mplfinance) (3.7.1)\n",
            "Requirement already satisfied: pandas in /usr/local/lib/python3.10/dist-packages (from mplfinance) (2.0.3)\n",
            "Requirement already satisfied: contourpy>=1.0.1 in /usr/local/lib/python3.10/dist-packages (from matplotlib->mplfinance) (1.2.1)\n",
            "Requirement already satisfied: cycler>=0.10 in /usr/local/lib/python3.10/dist-packages (from matplotlib->mplfinance) (0.12.1)\n",
            "Requirement already satisfied: fonttools>=4.22.0 in /usr/local/lib/python3.10/dist-packages (from matplotlib->mplfinance) (4.52.4)\n",
            "Requirement already satisfied: kiwisolver>=1.0.1 in /usr/local/lib/python3.10/dist-packages (from matplotlib->mplfinance) (1.4.5)\n",
            "Requirement already satisfied: numpy>=1.20 in /usr/local/lib/python3.10/dist-packages (from matplotlib->mplfinance) (1.25.2)\n",
            "Requirement already satisfied: packaging>=20.0 in /usr/local/lib/python3.10/dist-packages (from matplotlib->mplfinance) (24.0)\n",
            "Requirement already satisfied: pillow>=6.2.0 in /usr/local/lib/python3.10/dist-packages (from matplotlib->mplfinance) (9.4.0)\n",
            "Requirement already satisfied: pyparsing>=2.3.1 in /usr/local/lib/python3.10/dist-packages (from matplotlib->mplfinance) (3.1.2)\n",
            "Requirement already satisfied: python-dateutil>=2.7 in /usr/local/lib/python3.10/dist-packages (from matplotlib->mplfinance) (2.8.2)\n",
            "Requirement already satisfied: pytz>=2020.1 in /usr/local/lib/python3.10/dist-packages (from pandas->mplfinance) (2023.4)\n",
            "Requirement already satisfied: tzdata>=2022.1 in /usr/local/lib/python3.10/dist-packages (from pandas->mplfinance) (2024.1)\n",
            "Requirement already satisfied: six>=1.5 in /usr/local/lib/python3.10/dist-packages (from python-dateutil>=2.7->matplotlib->mplfinance) (1.16.0)\n",
            "Installing collected packages: mplfinance\n",
            "Successfully installed mplfinance-0.12.10b0\n"
          ]
        }
      ]
    },
    {
      "cell_type": "code",
      "execution_count": null,
      "metadata": {
        "colab": {
          "base_uri": "https://localhost:8080/",
          "height": 923
        },
        "id": "8mpJYE4kr4hV",
        "outputId": "2595cd26-25c9-48de-e909-f38e0f5d68e7"
      },
      "outputs": [
        {
          "output_type": "display_data",
          "data": {
            "text/plain": [
              "<Figure size 800x575 with 4 Axes>"
            ],
            "image/png": "[encoded data removed]"
          },
          "metadata": {}
        },
        {
          "output_type": "execute_result",
          "data": {
            "text/plain": [
              "[<matplotlib.lines.Line2D at 0x799f3c3bde70>]"
            ]
          },
          "metadata": {},
          "execution_count": 15
        },
        {
          "output_type": "display_data",
          "data": {
            "text/plain": [
              "<Figure size 640x480 with 1 Axes>"
            ],
            "image/png": "[encoded data removed]"
          },
          "metadata": {}
        }
      ],
      "source": [
        "import pandas as pd\n",
        "import mplfinance as mpf\n",
        "\n",
        "# Load the stock price data\n",
        "df = pd.read_csv('/content/^IXIC.csv')\n",
        "\n",
        "# Convert the date column to datetime format and set it as the index\n",
        "df['Date'] = pd.to_datetime(df['Date'])\n",
        "df.set_index('Date', inplace=True)\n",
        "\n",
        "# Plot the candlestick chart\n",
        "mpf.plot(df[5323:5427], type='candle',style='yahoo', volume=True, mav=(6,9))\n",
        "\n",
        "df5=df.reset_index()['Close']\n",
        "\n",
        "plt.plot(df5[5323:5427])\n",
        "\n"
      ]
    },
    {
      "cell_type": "code",
      "source": [
        "from sklearn.model_selection import train_test_split\n",
        "from sklearn.preprocessing import MinMaxScaler"
      ],
      "metadata": {
        "id": "K9Ecu0zKsqsy"
      },
      "execution_count": null,
      "outputs": []
    },
    {
      "cell_type": "code",
      "source": [
        "from sklearn.preprocessing import MinMaxScaler\n",
        "scaler=MinMaxScaler(feature_range=(0,1))\n",
        "df1=scaler.fit_transform(np.array(df1).reshape(-1,1))"
      ],
      "metadata": {
        "id": "XQ7KBuaCFeqo"
      },
      "execution_count": null,
      "outputs": []
    },
    {
      "cell_type": "code",
      "source": [
        "print(df1)"
      ],
      "metadata": {
        "colab": {
          "base_uri": "https://localhost:8080/"
        },
        "id": "3lQKo8Q_IDES",
        "outputId": "543675ad-7bda-482f-af48-52601579de3d"
      },
      "execution_count": null,
      "outputs": [
        {
          "output_type": "stream",
          "name": "stdout",
          "text": [
            "[[0.0850618 ]\n",
            " [0.08152331]\n",
            " [0.08337662]\n",
            " ...\n",
            " [0.9868006 ]\n",
            " [0.99949117]\n",
            " [0.99262949]]\n"
          ]
        }
      ]
    },
    {
      "cell_type": "code",
      "source": [
        "##splitting dataset into train and test split\n",
        "training_size=int(len(df1)*0.80)\n",
        "test_size=len(df1)-training_size\n",
        "train_data,test_data=df1[0:training_size,:],df1[training_size:len(df1),:1]"
      ],
      "metadata": {
        "id": "eVs4YwJgareT"
      },
      "execution_count": null,
      "outputs": []
    },
    {
      "cell_type": "code",
      "source": [
        "training_size,test_size"
      ],
      "metadata": {
        "colab": {
          "base_uri": "https://localhost:8080/"
        },
        "id": "ozMLZrtecLhA",
        "outputId": "083d845b-02f9-48d7-ac24-65d8226feb92"
      },
      "execution_count": null,
      "outputs": [
        {
          "output_type": "execute_result",
          "data": {
            "text/plain": [
              "(4088, 2202)"
            ]
          },
          "metadata": {},
          "execution_count": 48
        }
      ]
    },
    {
      "cell_type": "code",
      "source": [
        "train_data"
      ],
      "metadata": {
        "colab": {
          "base_uri": "https://localhost:8080/"
        },
        "id": "hXY-9pNVcUXM",
        "outputId": "cb328eb1-6a32-4278-f538-bc7494881605"
      },
      "execution_count": null,
      "outputs": [
        {
          "output_type": "execute_result",
          "data": {
            "text/plain": [
              "array([[0.0850618 ],\n",
              "       [0.08152331],\n",
              "       [0.08337662],\n",
              "       ...,\n",
              "       [0.22484843],\n",
              "       [0.22146294],\n",
              "       [0.22949462]])"
            ]
          },
          "metadata": {},
          "execution_count": 49
        }
      ]
    },
    {
      "cell_type": "code",
      "source": [
        "import numpy\n",
        "# convert an array of values into a dataset matrix\n",
        "def create_dataset(dataset, time_step=1):\n",
        "\tdataX, dataY = [], []\n",
        "\tfor i in range(len(dataset)-time_step-1):\n",
        "\t\ta = dataset[i:(i+time_step), 0]   ###i=0, 0,1,2,3-----99   100\n",
        "\t\tdataX.append(a)\n",
        "\t\tdataY.append(dataset[i + time_step, 0])\n",
        "\treturn numpy.array(dataX), numpy.array(dataY)"
      ],
      "metadata": {
        "id": "vVGeCRMQcYUt"
      },
      "execution_count": null,
      "outputs": []
    },
    {
      "cell_type": "code",
      "source": [
        "# reshape into X=t,t+1,t+2,t+3 and Y=t+4\n",
        "time_step = 251\n",
        "X_train, y_train = create_dataset(train_data, time_step)\n",
        "X_test, ytest = create_dataset(test_data, time_step)"
      ],
      "metadata": {
        "id": "HcByeSWHclg0"
      },
      "execution_count": null,
      "outputs": []
    },
    {
      "cell_type": "code",
      "source": [
        "print(X_train.shape), print(y_train.shape)"
      ],
      "metadata": {
        "colab": {
          "base_uri": "https://localhost:8080/"
        },
        "id": "DWd2c6locuXM",
        "outputId": "9b0959e9-a3bf-401e-90bb-0da37a12d4f7"
      },
      "execution_count": null,
      "outputs": [
        {
          "output_type": "stream",
          "name": "stdout",
          "text": [
            "(3836, 251)\n",
            "(3836,)\n"
          ]
        },
        {
          "output_type": "execute_result",
          "data": {
            "text/plain": [
              "(None, None)"
            ]
          },
          "metadata": {},
          "execution_count": 57
        }
      ]
    },
    {
      "cell_type": "code",
      "source": [
        "print(X_test.shape), print(ytest.shape)"
      ],
      "metadata": {
        "colab": {
          "base_uri": "https://localhost:8080/"
        },
        "id": "XZHzX-QUcxK4",
        "outputId": "edf45877-0596-4607-ec74-cdad052b0711"
      },
      "execution_count": null,
      "outputs": [
        {
          "output_type": "stream",
          "name": "stdout",
          "text": [
            "(1950, 251)\n",
            "(1950,)\n"
          ]
        },
        {
          "output_type": "execute_result",
          "data": {
            "text/plain": [
              "(None, None)"
            ]
          },
          "metadata": {},
          "execution_count": 58
        }
      ]
    },
    {
      "cell_type": "code",
      "source": [
        "# reshape input to be [samples, time steps, features] which is required for LSTM\n",
        "X_train =X_train.reshape(X_train.shape[0],X_train.shape[1] , 1)\n",
        "X_test = X_test.reshape(X_test.shape[0],X_test.shape[1] , 1)"
      ],
      "metadata": {
        "id": "x4Qc0NXCczqe"
      },
      "execution_count": null,
      "outputs": []
    },
    {
      "cell_type": "code",
      "source": [
        "### Create the Stacked LSTM model\n",
        "from tensorflow.keras.models import Sequential\n",
        "from tensorflow.keras.layers import Dense\n",
        "from tensorflow.keras.layers import LSTM"
      ],
      "metadata": {
        "id": "_fAN9ZFLc2HQ"
      },
      "execution_count": null,
      "outputs": []
    },
    {
      "cell_type": "code",
      "source": [
        "model=Sequential()\n",
        "model.add(LSTM(50,return_sequences=True,input_shape=(251,1)))\n",
        "model.add(LSTM(50,return_sequences=True))\n",
        "model.add(LSTM(50))\n",
        "model.add(Dense(1))\n",
        "model.compile(loss='mean_squared_error',optimizer='adam')"
      ],
      "metadata": {
        "id": "5H93Q8oPc49v"
      },
      "execution_count": null,
      "outputs": []
    },
    {
      "cell_type": "code",
      "source": [
        "model.summary()"
      ],
      "metadata": {
        "colab": {
          "base_uri": "https://localhost:8080/"
        },
        "id": "DmfGK-CpdgvX",
        "outputId": "e45e951e-b060-4033-b4ed-2cf1eae1d2fe"
      },
      "execution_count": null,
      "outputs": [
        {
          "output_type": "stream",
          "name": "stdout",
          "text": [
            "Model: \"sequential_4\"\n",
            "_________________________________________________________________\n",
            " Layer (type)                Output Shape              Param #   \n",
            "=================================================================\n",
            " lstm_10 (LSTM)              (None, 251, 50)           10400     \n",
            "                                                                 \n",
            " lstm_11 (LSTM)              (None, 251, 50)           20200     \n",
            "                                                                 \n",
            " lstm_12 (LSTM)              (None, 50)                20200     \n",
            "                                                                 \n",
            " dense_3 (Dense)             (None, 1)                 51        \n",
            "                                                                 \n",
            "=================================================================\n",
            "Total params: 50851 (198.64 KB)\n",
            "Trainable params: 50851 (198.64 KB)\n",
            "Non-trainable params: 0 (0.00 Byte)\n",
            "_________________________________________________________________\n"
          ]
        }
      ]
    },
    {
      "cell_type": "code",
      "source": [],
      "metadata": {
        "id": "WsQX4Q_teYp9"
      },
      "execution_count": null,
      "outputs": []
    },
    {
      "cell_type": "code",
      "source": [
        "model.fit(X_train,y_train,validation_data=(X_test,ytest),epochs=100,batch_size=64,verbose=1)"
      ],
      "metadata": {
        "colab": {
          "base_uri": "https://localhost:8080/"
        },
        "id": "vsKCMVFOdniH",
        "outputId": "3d6cb18f-fceb-49af-f8e4-13ef31c99bd8"
      },
      "execution_count": null,
      "outputs": [
        {
          "output_type": "stream",
          "name": "stdout",
          "text": [
            "Epoch 1/100\n",
            "60/60 [==============================] - 41s 568ms/step - loss: 8.3427e-04 - val_loss: 7.6479e-04\n",
            "Epoch 2/100\n",
            "60/60 [==============================] - 33s 554ms/step - loss: 4.9655e-05 - val_loss: 8.3448e-04\n",
            "Epoch 3/100\n",
            "60/60 [==============================] - 33s 554ms/step - loss: 4.4658e-05 - val_loss: 8.0128e-04\n",
            "Epoch 4/100\n",
            "60/60 [==============================] - 32s 538ms/step - loss: 4.5420e-05 - val_loss: 0.0014\n",
            "Epoch 5/100\n",
            "60/60 [==============================] - 34s 556ms/step - loss: 4.2153e-05 - val_loss: 0.0010\n",
            "Epoch 6/100\n",
            "60/60 [==============================] - 32s 541ms/step - loss: 3.8437e-05 - val_loss: 7.7945e-04\n",
            "Epoch 7/100\n",
            "60/60 [==============================] - 33s 555ms/step - loss: 3.5988e-05 - val_loss: 0.0011\n",
            "Epoch 8/100\n",
            "60/60 [==============================] - 33s 550ms/step - loss: 3.6479e-05 - val_loss: 5.5565e-04\n",
            "Epoch 9/100\n",
            "60/60 [==============================] - 34s 564ms/step - loss: 3.4407e-05 - val_loss: 6.5678e-04\n",
            "Epoch 10/100\n",
            "60/60 [==============================] - 31s 524ms/step - loss: 3.4404e-05 - val_loss: 5.6290e-04\n",
            "Epoch 11/100\n",
            "60/60 [==============================] - 33s 542ms/step - loss: 3.2215e-05 - val_loss: 0.0013\n",
            "Epoch 12/100\n",
            "60/60 [==============================] - 31s 527ms/step - loss: 3.2571e-05 - val_loss: 6.9765e-04\n",
            "Epoch 13/100\n",
            "60/60 [==============================] - 31s 526ms/step - loss: 2.9810e-05 - val_loss: 0.0015\n",
            "Epoch 14/100\n",
            "60/60 [==============================] - 32s 544ms/step - loss: 3.1331e-05 - val_loss: 5.4576e-04\n",
            "Epoch 15/100\n",
            "60/60 [==============================] - 31s 519ms/step - loss: 2.6904e-05 - val_loss: 7.4482e-04\n",
            "Epoch 16/100\n",
            "60/60 [==============================] - 31s 525ms/step - loss: 2.8186e-05 - val_loss: 8.1604e-04\n",
            "Epoch 17/100\n",
            "60/60 [==============================] - 32s 531ms/step - loss: 2.7502e-05 - val_loss: 9.4161e-04\n",
            "Epoch 18/100\n",
            "60/60 [==============================] - 34s 569ms/step - loss: 2.5512e-05 - val_loss: 5.5020e-04\n",
            "Epoch 19/100\n",
            "60/60 [==============================] - 31s 521ms/step - loss: 2.6071e-05 - val_loss: 0.0013\n",
            "Epoch 20/100\n",
            "60/60 [==============================] - 32s 543ms/step - loss: 2.3248e-05 - val_loss: 6.8579e-04\n",
            "Epoch 21/100\n",
            "60/60 [==============================] - 32s 526ms/step - loss: 2.2168e-05 - val_loss: 4.2806e-04\n",
            "Epoch 22/100\n",
            "60/60 [==============================] - 31s 525ms/step - loss: 2.4663e-05 - val_loss: 9.2872e-04\n",
            "Epoch 23/100\n",
            "60/60 [==============================] - 33s 556ms/step - loss: 2.3262e-05 - val_loss: 4.0756e-04\n",
            "Epoch 24/100\n",
            "60/60 [==============================] - 34s 558ms/step - loss: 2.0587e-05 - val_loss: 6.6074e-04\n",
            "Epoch 25/100\n",
            "60/60 [==============================] - 32s 531ms/step - loss: 2.0693e-05 - val_loss: 0.0011\n",
            "Epoch 26/100\n",
            "60/60 [==============================] - 33s 558ms/step - loss: 2.1141e-05 - val_loss: 9.6667e-04\n",
            "Epoch 27/100\n",
            "60/60 [==============================] - 34s 571ms/step - loss: 2.0142e-05 - val_loss: 9.1507e-04\n",
            "Epoch 28/100\n",
            "60/60 [==============================] - 32s 537ms/step - loss: 1.9006e-05 - val_loss: 6.5098e-04\n",
            "Epoch 29/100\n",
            "60/60 [==============================] - 38s 641ms/step - loss: 2.0207e-05 - val_loss: 3.7582e-04\n",
            "Epoch 30/100\n",
            "60/60 [==============================] - 32s 528ms/step - loss: 2.0733e-05 - val_loss: 8.1496e-04\n",
            "Epoch 31/100\n",
            "60/60 [==============================] - 33s 547ms/step - loss: 2.0727e-05 - val_loss: 7.6884e-04\n",
            "Epoch 32/100\n",
            "60/60 [==============================] - 32s 533ms/step - loss: 1.9396e-05 - val_loss: 4.1558e-04\n",
            "Epoch 33/100\n",
            "60/60 [==============================] - 31s 524ms/step - loss: 1.9131e-05 - val_loss: 7.5452e-04\n",
            "Epoch 34/100\n",
            "60/60 [==============================] - 32s 542ms/step - loss: 1.7006e-05 - val_loss: 5.2403e-04\n",
            "Epoch 35/100\n",
            "60/60 [==============================] - 31s 524ms/step - loss: 2.0110e-05 - val_loss: 7.6778e-04\n",
            "Epoch 36/100\n",
            "60/60 [==============================] - 33s 551ms/step - loss: 1.7455e-05 - val_loss: 8.7722e-04\n",
            "Epoch 37/100\n",
            "60/60 [==============================] - 32s 543ms/step - loss: 1.7661e-05 - val_loss: 6.2556e-04\n",
            "Epoch 38/100\n",
            "60/60 [==============================] - 32s 526ms/step - loss: 1.7141e-05 - val_loss: 6.9035e-04\n",
            "Epoch 39/100\n",
            "60/60 [==============================] - 31s 522ms/step - loss: 1.7180e-05 - val_loss: 6.8463e-04\n",
            "Epoch 40/100\n",
            "60/60 [==============================] - 32s 541ms/step - loss: 1.5389e-05 - val_loss: 5.5250e-04\n",
            "Epoch 41/100\n",
            "60/60 [==============================] - 32s 527ms/step - loss: 1.4655e-05 - val_loss: 5.9574e-04\n",
            "Epoch 42/100\n",
            "60/60 [==============================] - 31s 520ms/step - loss: 1.4081e-05 - val_loss: 0.0012\n",
            "Epoch 43/100\n",
            "60/60 [==============================] - 31s 520ms/step - loss: 1.3720e-05 - val_loss: 6.3526e-04\n",
            "Epoch 44/100\n",
            "60/60 [==============================] - 32s 541ms/step - loss: 1.2553e-05 - val_loss: 5.6201e-04\n",
            "Epoch 45/100\n",
            "60/60 [==============================] - 33s 549ms/step - loss: 1.3743e-05 - val_loss: 5.2906e-04\n",
            "Epoch 46/100\n",
            "60/60 [==============================] - 31s 521ms/step - loss: 1.2945e-05 - val_loss: 0.0011\n",
            "Epoch 47/100\n",
            "60/60 [==============================] - 33s 544ms/step - loss: 1.3282e-05 - val_loss: 4.8784e-04\n",
            "Epoch 48/100\n",
            "60/60 [==============================] - 32s 529ms/step - loss: 1.2029e-05 - val_loss: 7.4949e-04\n",
            "Epoch 49/100\n",
            "60/60 [==============================] - 31s 526ms/step - loss: 1.1973e-05 - val_loss: 2.7773e-04\n",
            "Epoch 50/100\n",
            "60/60 [==============================] - 33s 547ms/step - loss: 1.2096e-05 - val_loss: 2.1650e-04\n",
            "Epoch 51/100\n",
            "60/60 [==============================] - 32s 525ms/step - loss: 1.1541e-05 - val_loss: 3.0888e-04\n",
            "Epoch 52/100\n",
            "60/60 [==============================] - 31s 522ms/step - loss: 1.1001e-05 - val_loss: 5.6574e-04\n",
            "Epoch 53/100\n",
            "60/60 [==============================] - 31s 522ms/step - loss: 1.1676e-05 - val_loss: 7.7029e-04\n",
            "Epoch 54/100\n",
            "60/60 [==============================] - 34s 574ms/step - loss: 1.1084e-05 - val_loss: 5.7342e-04\n",
            "Epoch 55/100\n",
            "60/60 [==============================] - 31s 521ms/step - loss: 1.0226e-05 - val_loss: 6.2013e-04\n",
            "Epoch 56/100\n",
            "60/60 [==============================] - 31s 522ms/step - loss: 9.8567e-06 - val_loss: 3.6808e-04\n",
            "Epoch 57/100\n",
            "60/60 [==============================] - 31s 520ms/step - loss: 1.1263e-05 - val_loss: 8.5642e-04\n",
            "Epoch 58/100\n",
            "60/60 [==============================] - 32s 541ms/step - loss: 9.7649e-06 - val_loss: 4.5746e-04\n",
            "Epoch 59/100\n",
            "60/60 [==============================] - 31s 520ms/step - loss: 8.9286e-06 - val_loss: 4.4845e-04\n",
            "Epoch 60/100\n",
            "60/60 [==============================] - 31s 518ms/step - loss: 9.2521e-06 - val_loss: 2.0241e-04\n",
            "Epoch 61/100\n",
            "60/60 [==============================] - 31s 519ms/step - loss: 9.1422e-06 - val_loss: 6.2027e-04\n",
            "Epoch 62/100\n",
            "60/60 [==============================] - 37s 627ms/step - loss: 9.6791e-06 - val_loss: 1.7350e-04\n",
            "Epoch 63/100\n",
            "60/60 [==============================] - 31s 521ms/step - loss: 8.6629e-06 - val_loss: 2.7516e-04\n",
            "Epoch 64/100\n",
            "60/60 [==============================] - 35s 580ms/step - loss: 8.8385e-06 - val_loss: 4.6628e-04\n",
            "Epoch 65/100\n",
            "60/60 [==============================] - 35s 588ms/step - loss: 1.0708e-05 - val_loss: 3.1182e-04\n",
            "Epoch 66/100\n",
            "60/60 [==============================] - 35s 588ms/step - loss: 8.9720e-06 - val_loss: 6.7779e-04\n",
            "Epoch 67/100\n",
            "60/60 [==============================] - 33s 544ms/step - loss: 1.1111e-05 - val_loss: 8.2284e-04\n",
            "Epoch 68/100\n",
            "60/60 [==============================] - 31s 523ms/step - loss: 1.0340e-05 - val_loss: 4.2120e-04\n",
            "Epoch 69/100\n",
            "60/60 [==============================] - 33s 555ms/step - loss: 7.7628e-06 - val_loss: 2.4268e-04\n",
            "Epoch 70/100\n",
            "60/60 [==============================] - 31s 515ms/step - loss: 8.3465e-06 - val_loss: 2.3001e-04\n",
            "Epoch 71/100\n",
            "60/60 [==============================] - 32s 543ms/step - loss: 1.0363e-05 - val_loss: 2.0859e-04\n",
            "Epoch 72/100\n",
            "60/60 [==============================] - 31s 517ms/step - loss: 8.7924e-06 - val_loss: 3.6579e-04\n",
            "Epoch 73/100\n",
            "60/60 [==============================] - 33s 555ms/step - loss: 8.3535e-06 - val_loss: 3.0611e-04\n",
            "Epoch 74/100\n",
            "60/60 [==============================] - 31s 519ms/step - loss: 7.8046e-06 - val_loss: 2.4728e-04\n",
            "Epoch 75/100\n",
            "60/60 [==============================] - 31s 522ms/step - loss: 8.5220e-06 - val_loss: 5.3138e-04\n",
            "Epoch 76/100\n",
            "60/60 [==============================] - 32s 539ms/step - loss: 8.6793e-06 - val_loss: 2.0757e-04\n",
            "Epoch 77/100\n",
            "60/60 [==============================] - 31s 519ms/step - loss: 8.6955e-06 - val_loss: 6.3483e-04\n",
            "Epoch 78/100\n",
            "60/60 [==============================] - 31s 519ms/step - loss: 9.0210e-06 - val_loss: 4.8239e-04\n",
            "Epoch 79/100\n",
            "60/60 [==============================] - 31s 514ms/step - loss: 6.9754e-06 - val_loss: 2.6136e-04\n",
            "Epoch 80/100\n",
            "60/60 [==============================] - 40s 677ms/step - loss: 7.9334e-06 - val_loss: 4.0061e-04\n",
            "Epoch 81/100\n",
            "60/60 [==============================] - 32s 532ms/step - loss: 7.8614e-06 - val_loss: 2.9571e-04\n",
            "Epoch 82/100\n",
            "60/60 [==============================] - 33s 546ms/step - loss: 7.7504e-06 - val_loss: 4.8252e-04\n",
            "Epoch 83/100\n",
            "60/60 [==============================] - 31s 523ms/step - loss: 7.7887e-06 - val_loss: 4.1019e-04\n",
            "Epoch 84/100\n",
            "60/60 [==============================] - 32s 528ms/step - loss: 7.3079e-06 - val_loss: 2.5011e-04\n",
            "Epoch 85/100\n",
            "60/60 [==============================] - 32s 537ms/step - loss: 7.3332e-06 - val_loss: 1.7795e-04\n",
            "Epoch 86/100\n",
            "60/60 [==============================] - 33s 543ms/step - loss: 8.0007e-06 - val_loss: 4.0912e-04\n",
            "Epoch 87/100\n",
            "60/60 [==============================] - 32s 532ms/step - loss: 7.3693e-06 - val_loss: 5.5005e-04\n",
            "Epoch 88/100\n",
            "60/60 [==============================] - 32s 530ms/step - loss: 7.3532e-06 - val_loss: 3.9171e-04\n",
            "Epoch 89/100\n",
            "60/60 [==============================] - 40s 666ms/step - loss: 7.3250e-06 - val_loss: 6.1486e-04\n",
            "Epoch 90/100\n",
            "60/60 [==============================] - 32s 539ms/step - loss: 1.0786e-05 - val_loss: 4.9349e-04\n",
            "Epoch 91/100\n",
            "60/60 [==============================] - 32s 538ms/step - loss: 8.1537e-06 - val_loss: 6.4434e-04\n",
            "Epoch 92/100\n",
            "60/60 [==============================] - 32s 533ms/step - loss: 7.6546e-06 - val_loss: 2.9546e-04\n",
            "Epoch 93/100\n",
            "60/60 [==============================] - 32s 531ms/step - loss: 7.3674e-06 - val_loss: 4.2556e-04\n",
            "Epoch 94/100\n",
            "60/60 [==============================] - 33s 547ms/step - loss: 7.1136e-06 - val_loss: 6.3802e-04\n",
            "Epoch 95/100\n",
            "60/60 [==============================] - 31s 518ms/step - loss: 9.6489e-06 - val_loss: 6.8022e-04\n",
            "Epoch 96/100\n",
            "60/60 [==============================] - 31s 526ms/step - loss: 6.8158e-06 - val_loss: 4.5598e-04\n",
            "Epoch 97/100\n",
            "60/60 [==============================] - 31s 522ms/step - loss: 9.5123e-06 - val_loss: 3.1789e-04\n",
            "Epoch 98/100\n",
            "60/60 [==============================] - 34s 561ms/step - loss: 1.0663e-05 - val_loss: 5.5166e-04\n",
            "Epoch 99/100\n",
            "60/60 [==============================] - 32s 529ms/step - loss: 8.3126e-06 - val_loss: 2.8475e-04\n",
            "Epoch 100/100\n",
            "60/60 [==============================] - 32s 534ms/step - loss: 7.1776e-06 - val_loss: 5.1786e-04\n"
          ]
        },
        {
          "output_type": "execute_result",
          "data": {
            "text/plain": [
              "<keras.src.callbacks.History at 0x799ecd3eaf50>"
            ]
          },
          "metadata": {},
          "execution_count": 70
        }
      ]
    },
    {
      "cell_type": "code",
      "source": [
        "import tensorflow as tf"
      ],
      "metadata": {
        "id": "TlAPYB7bd5ZD"
      },
      "execution_count": null,
      "outputs": []
    },
    {
      "cell_type": "code",
      "source": [
        "### Lets Do the prediction and check performance metrics\n",
        "train_predict=model.predict(X_train)\n",
        "test_predict=model.predict(X_test)"
      ],
      "metadata": {
        "colab": {
          "base_uri": "https://localhost:8080/"
        },
        "id": "qyjOwTylmbd2",
        "outputId": "0b9c3316-011a-4ad5-99c6-5e0312d950dc"
      },
      "execution_count": null,
      "outputs": [
        {
          "output_type": "stream",
          "name": "stdout",
          "text": [
            "120/120 [==============================] - 13s 101ms/step\n",
            "61/61 [==============================] - 7s 114ms/step\n"
          ]
        }
      ]
    },
    {
      "cell_type": "code",
      "source": [
        "##Transformback to original form\n",
        "train_predict=scaler.inverse_transform(train_predict)\n",
        "test_predict=scaler.inverse_transform(test_predict)"
      ],
      "metadata": {
        "id": "D3_PE34Pmknx"
      },
      "execution_count": null,
      "outputs": []
    },
    {
      "cell_type": "code",
      "source": [
        "### Calculate RMSE performance metrics\n",
        "import math\n",
        "from sklearn.metrics import mean_squared_error\n",
        "math.sqrt(mean_squared_error(y_train,train_predict))"
      ],
      "metadata": {
        "colab": {
          "base_uri": "https://localhost:8080/"
        },
        "id": "x-RjqyvhmlTf",
        "outputId": "bced968f-9522-4b29-d550-77aa040aa8ad"
      },
      "execution_count": null,
      "outputs": [
        {
          "output_type": "execute_result",
          "data": {
            "text/plain": [
              "2756.8543814971376"
            ]
          },
          "metadata": {},
          "execution_count": 75
        }
      ]
    },
    {
      "cell_type": "code",
      "source": [
        "### Test Data RMSE\n",
        "math.sqrt(mean_squared_error(ytest,test_predict))"
      ],
      "metadata": {
        "colab": {
          "base_uri": "https://localhost:8080/"
        },
        "id": "vvA9AO-2rMj1",
        "outputId": "9e67ec86-4d6c-4fb9-c7a9-9f554e038d60"
      },
      "execution_count": null,
      "outputs": [
        {
          "output_type": "execute_result",
          "data": {
            "text/plain": [
              "10508.83184709956"
            ]
          },
          "metadata": {},
          "execution_count": 76
        }
      ]
    },
    {
      "cell_type": "code",
      "source": [
        "# shift train predictions for plotting\n",
        "look_back=100\n",
        "trainPredictPlot = numpy.empty_like(df1)\n",
        "trainPredictPlot[:, :] = np.nan\n",
        "trainPredictPlot[look_back:len(train_predict)+look_back, :] = train_predict\n",
        "# shift test predictions for plotting\n",
        "testPredictPlot = numpy.empty_like(df1)\n",
        "testPredictPlot[:, :] = numpy.nan\n",
        "testPredictPlot[len(train_predict)+(look_back*2)+1:len(df1)-1, :] = test_predict\n",
        "# plot baseline and predictions\n",
        "plt.plot(scaler.inverse_transform(df1))\n",
        "plt.plot(trainPredictPlot)\n",
        "plt.plot(testPredictPlot)\n",
        "plt.show()"
      ],
      "metadata": {
        "colab": {
          "base_uri": "https://localhost:8080/",
          "height": 211
        },
        "id": "gjRqgBHOrSzJ",
        "outputId": "6e3d4f87-a865-4424-e83f-22d6c7eb7b56"
      },
      "execution_count": null,
      "outputs": [
        {
          "output_type": "error",
          "ename": "ValueError",
          "evalue": "could not broadcast input array from shape (1950,1) into shape (2252,1)",
          "traceback": [
            "\u001b[0;31m---------------------------------------------------------------------------\u001b[0m",
            "\u001b[0;31mValueError\u001b[0m                                Traceback (most recent call last)",
            "\u001b[0;32m<ipython-input-77-edf152a2d784>\u001b[0m in \u001b[0;36m<cell line: 9>\u001b[0;34m()\u001b[0m\n\u001b[1;32m      7\u001b[0m \u001b[0mtestPredictPlot\u001b[0m \u001b[0;34m=\u001b[0m \u001b[0mnumpy\u001b[0m\u001b[0;34m.\u001b[0m\u001b[0mempty_like\u001b[0m\u001b[0;34m(\u001b[0m\u001b[0mdf1\u001b[0m\u001b[0;34m)\u001b[0m\u001b[0;34m\u001b[0m\u001b[0;34m\u001b[0m\u001b[0m\n\u001b[1;32m      8\u001b[0m \u001b[0mtestPredictPlot\u001b[0m\u001b[0;34m[\u001b[0m\u001b[0;34m:\u001b[0m\u001b[0;34m,\u001b[0m \u001b[0;34m:\u001b[0m\u001b[0;34m]\u001b[0m \u001b[0;34m=\u001b[0m \u001b[0mnumpy\u001b[0m\u001b[0;34m.\u001b[0m\u001b[0mnan\u001b[0m\u001b[0;34m\u001b[0m\u001b[0;34m\u001b[0m\u001b[0m\n\u001b[0;32m----> 9\u001b[0;31m \u001b[0mtestPredictPlot\u001b[0m\u001b[0;34m[\u001b[0m\u001b[0mlen\u001b[0m\u001b[0;34m(\u001b[0m\u001b[0mtrain_predict\u001b[0m\u001b[0;34m)\u001b[0m\u001b[0;34m+\u001b[0m\u001b[0;34m(\u001b[0m\u001b[0mlook_back\u001b[0m\u001b[0;34m*\u001b[0m\u001b[0;36m2\u001b[0m\u001b[0;34m)\u001b[0m\u001b[0;34m+\u001b[0m\u001b[0;36m1\u001b[0m\u001b[0;34m:\u001b[0m\u001b[0mlen\u001b[0m\u001b[0;34m(\u001b[0m\u001b[0mdf1\u001b[0m\u001b[0;34m)\u001b[0m\u001b[0;34m-\u001b[0m\u001b[0;36m1\u001b[0m\u001b[0;34m,\u001b[0m \u001b[0;34m:\u001b[0m\u001b[0;34m]\u001b[0m \u001b[0;34m=\u001b[0m \u001b[0mtest_predict\u001b[0m\u001b[0;34m\u001b[0m\u001b[0;34m\u001b[0m\u001b[0m\n\u001b[0m\u001b[1;32m     10\u001b[0m \u001b[0;31m# plot baseline and predictions\u001b[0m\u001b[0;34m\u001b[0m\u001b[0;34m\u001b[0m\u001b[0m\n\u001b[1;32m     11\u001b[0m \u001b[0mplt\u001b[0m\u001b[0;34m.\u001b[0m\u001b[0mplot\u001b[0m\u001b[0;34m(\u001b[0m\u001b[0mscaler\u001b[0m\u001b[0;34m.\u001b[0m\u001b[0minverse_transform\u001b[0m\u001b[0;34m(\u001b[0m\u001b[0mdf1\u001b[0m\u001b[0;34m)\u001b[0m\u001b[0;34m)\u001b[0m\u001b[0;34m\u001b[0m\u001b[0;34m\u001b[0m\u001b[0m\n",
            "\u001b[0;31mValueError\u001b[0m: could not broadcast input array from shape (1950,1) into shape (2252,1)"
          ]
        }
      ]
    },
    {
      "cell_type": "code",
      "source": [],
      "metadata": {
        "id": "UY3B9aHqzjVm"
      },
      "execution_count": null,
      "outputs": []
    }
  ]
}